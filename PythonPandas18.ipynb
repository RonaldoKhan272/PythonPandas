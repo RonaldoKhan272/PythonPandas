{
 "cells": [
  {
   "cell_type": "markdown",
   "id": "1b371aa9",
   "metadata": {},
   "source": [
    "# Tips and Trick Python Pandas 18"
   ]
  },
  {
   "cell_type": "markdown",
   "id": "99438de4",
   "metadata": {},
   "source": [
    "# Membentuk Dummy Data Frame"
   ]
  },
  {
   "cell_type": "markdown",
   "id": "ad573255",
   "metadata": {},
   "source": [
    "# Import Module"
   ]
  },
  {
   "cell_type": "code",
   "execution_count": 1,
   "id": "e0daa613",
   "metadata": {},
   "outputs": [
    {
     "name": "stdout",
     "output_type": "stream",
     "text": [
      "1.2.4\n",
      "1.20.1\n"
     ]
    }
   ],
   "source": [
    "import pandas as pd\n",
    "import numpy as np\n",
    "\n",
    "print(pd.__version__)\n",
    "print(np.__version__)"
   ]
  },
  {
   "cell_type": "markdown",
   "id": "72bcac89",
   "metadata": {},
   "source": [
    "# 3 Cara Buat Data Frame"
   ]
  },
  {
   "cell_type": "markdown",
   "id": "78fff453",
   "metadata": {},
   "source": [
    "1. Struktur Data `Dictionary`"
   ]
  },
  {
   "cell_type": "code",
   "execution_count": 3,
   "id": "8f94325c",
   "metadata": {},
   "outputs": [
    {
     "data": {
      "text/html": [
       "<div>\n",
       "<style scoped>\n",
       "    .dataframe tbody tr th:only-of-type {\n",
       "        vertical-align: middle;\n",
       "    }\n",
       "\n",
       "    .dataframe tbody tr th {\n",
       "        vertical-align: top;\n",
       "    }\n",
       "\n",
       "    .dataframe thead th {\n",
       "        text-align: right;\n",
       "    }\n",
       "</style>\n",
       "<table border=\"1\" class=\"dataframe\">\n",
       "  <thead>\n",
       "    <tr style=\"text-align: right;\">\n",
       "      <th></th>\n",
       "      <th>col1</th>\n",
       "      <th>col2</th>\n",
       "    </tr>\n",
       "  </thead>\n",
       "  <tbody>\n",
       "    <tr>\n",
       "      <th>0</th>\n",
       "      <td>1</td>\n",
       "      <td>5</td>\n",
       "    </tr>\n",
       "    <tr>\n",
       "      <th>1</th>\n",
       "      <td>2</td>\n",
       "      <td>6</td>\n",
       "    </tr>\n",
       "    <tr>\n",
       "      <th>2</th>\n",
       "      <td>3</td>\n",
       "      <td>7</td>\n",
       "    </tr>\n",
       "    <tr>\n",
       "      <th>3</th>\n",
       "      <td>4</td>\n",
       "      <td>8</td>\n",
       "    </tr>\n",
       "  </tbody>\n",
       "</table>\n",
       "</div>"
      ],
      "text/plain": [
       "   col1  col2\n",
       "0     1     5\n",
       "1     2     6\n",
       "2     3     7\n",
       "3     4     8"
      ]
     },
     "execution_count": 3,
     "metadata": {},
     "output_type": "execute_result"
    }
   ],
   "source": [
    "pd.DataFrame({'col1':[1, 2, 3, 4],\n",
    "             'col2':[5, 6, 7, 8]})"
   ]
  },
  {
   "cell_type": "markdown",
   "id": "d4fd19e2",
   "metadata": {},
   "source": [
    "2. `Numpy Array`"
   ]
  },
  {
   "cell_type": "code",
   "execution_count": 4,
   "id": "515a14f1",
   "metadata": {},
   "outputs": [
    {
     "data": {
      "text/plain": [
       "array([[ 9,  9, 16],\n",
       "       [ 7, 10,  2],\n",
       "       [12, 10,  1],\n",
       "       [19, 12, 19],\n",
       "       [12, 16,  4]])"
      ]
     },
     "execution_count": 4,
     "metadata": {},
     "output_type": "execute_result"
    }
   ],
   "source": [
    "n_rows = 5\n",
    "n_cols = 3\n",
    "\n",
    "arr = np.random.randint(1, 20, size=(n_rows, n_cols))\n",
    "\n",
    "arr"
   ]
  },
  {
   "cell_type": "code",
   "execution_count": 5,
   "id": "9d5dc65d",
   "metadata": {},
   "outputs": [
    {
     "data": {
      "text/html": [
       "<div>\n",
       "<style scoped>\n",
       "    .dataframe tbody tr th:only-of-type {\n",
       "        vertical-align: middle;\n",
       "    }\n",
       "\n",
       "    .dataframe tbody tr th {\n",
       "        vertical-align: top;\n",
       "    }\n",
       "\n",
       "    .dataframe thead th {\n",
       "        text-align: right;\n",
       "    }\n",
       "</style>\n",
       "<table border=\"1\" class=\"dataframe\">\n",
       "  <thead>\n",
       "    <tr style=\"text-align: right;\">\n",
       "      <th></th>\n",
       "      <th>A</th>\n",
       "      <th>B</th>\n",
       "      <th>C</th>\n",
       "    </tr>\n",
       "  </thead>\n",
       "  <tbody>\n",
       "    <tr>\n",
       "      <th>0</th>\n",
       "      <td>9</td>\n",
       "      <td>9</td>\n",
       "      <td>16</td>\n",
       "    </tr>\n",
       "    <tr>\n",
       "      <th>1</th>\n",
       "      <td>7</td>\n",
       "      <td>10</td>\n",
       "      <td>2</td>\n",
       "    </tr>\n",
       "    <tr>\n",
       "      <th>2</th>\n",
       "      <td>12</td>\n",
       "      <td>10</td>\n",
       "      <td>1</td>\n",
       "    </tr>\n",
       "    <tr>\n",
       "      <th>3</th>\n",
       "      <td>19</td>\n",
       "      <td>12</td>\n",
       "      <td>19</td>\n",
       "    </tr>\n",
       "    <tr>\n",
       "      <th>4</th>\n",
       "      <td>12</td>\n",
       "      <td>16</td>\n",
       "      <td>4</td>\n",
       "    </tr>\n",
       "  </tbody>\n",
       "</table>\n",
       "</div>"
      ],
      "text/plain": [
       "    A   B   C\n",
       "0   9   9  16\n",
       "1   7  10   2\n",
       "2  12  10   1\n",
       "3  19  12  19\n",
       "4  12  16   4"
      ]
     },
     "execution_count": 5,
     "metadata": {},
     "output_type": "execute_result"
    }
   ],
   "source": [
    "pd.DataFrame(arr, columns=tuple('ABC'))"
   ]
  },
  {
   "cell_type": "markdown",
   "id": "ebfc31c0",
   "metadata": {},
   "source": [
    "# Membentuk Data Frame dengan memanfaatkan `pandas.util.testing`"
   ]
  },
  {
   "cell_type": "markdown",
   "id": "ed652519",
   "metadata": {},
   "source": [
    "1. Data Frame"
   ]
  },
  {
   "cell_type": "code",
   "execution_count": 6,
   "id": "ec1d6b0b",
   "metadata": {},
   "outputs": [
    {
     "name": "stderr",
     "output_type": "stream",
     "text": [
      "C:\\Users\\ronal\\anaconda3\\lib\\site-packages\\pandas\\util\\__init__.py:8: FutureWarning: pandas.util.testing is deprecated. Use the functions in the public API at pandas.testing instead.\n",
      "  import pandas.util.testing\n"
     ]
    },
    {
     "data": {
      "text/html": [
       "<div>\n",
       "<style scoped>\n",
       "    .dataframe tbody tr th:only-of-type {\n",
       "        vertical-align: middle;\n",
       "    }\n",
       "\n",
       "    .dataframe tbody tr th {\n",
       "        vertical-align: top;\n",
       "    }\n",
       "\n",
       "    .dataframe thead th {\n",
       "        text-align: right;\n",
       "    }\n",
       "</style>\n",
       "<table border=\"1\" class=\"dataframe\">\n",
       "  <thead>\n",
       "    <tr style=\"text-align: right;\">\n",
       "      <th></th>\n",
       "      <th>A</th>\n",
       "      <th>B</th>\n",
       "      <th>C</th>\n",
       "      <th>D</th>\n",
       "    </tr>\n",
       "  </thead>\n",
       "  <tbody>\n",
       "    <tr>\n",
       "      <th>Rqj7TM6dqd</th>\n",
       "      <td>-1.164662</td>\n",
       "      <td>-0.369603</td>\n",
       "      <td>0.671890</td>\n",
       "      <td>-1.752743</td>\n",
       "    </tr>\n",
       "    <tr>\n",
       "      <th>89AEb3CooJ</th>\n",
       "      <td>-0.842375</td>\n",
       "      <td>0.240596</td>\n",
       "      <td>0.637464</td>\n",
       "      <td>-0.928127</td>\n",
       "    </tr>\n",
       "    <tr>\n",
       "      <th>Z0qe2frs1u</th>\n",
       "      <td>-0.111546</td>\n",
       "      <td>0.888410</td>\n",
       "      <td>0.301162</td>\n",
       "      <td>1.374522</td>\n",
       "    </tr>\n",
       "    <tr>\n",
       "      <th>cBeeq3clvb</th>\n",
       "      <td>2.178052</td>\n",
       "      <td>0.320682</td>\n",
       "      <td>1.830880</td>\n",
       "      <td>0.178606</td>\n",
       "    </tr>\n",
       "    <tr>\n",
       "      <th>tNc9gUe20m</th>\n",
       "      <td>0.055901</td>\n",
       "      <td>1.691400</td>\n",
       "      <td>-0.316217</td>\n",
       "      <td>-0.631692</td>\n",
       "    </tr>\n",
       "  </tbody>\n",
       "</table>\n",
       "</div>"
      ],
      "text/plain": [
       "                   A         B         C         D\n",
       "Rqj7TM6dqd -1.164662 -0.369603  0.671890 -1.752743\n",
       "89AEb3CooJ -0.842375  0.240596  0.637464 -0.928127\n",
       "Z0qe2frs1u -0.111546  0.888410  0.301162  1.374522\n",
       "cBeeq3clvb  2.178052  0.320682  1.830880  0.178606\n",
       "tNc9gUe20m  0.055901  1.691400 -0.316217 -0.631692"
      ]
     },
     "execution_count": 6,
     "metadata": {},
     "output_type": "execute_result"
    }
   ],
   "source": [
    "pd.util.testing.makeDataFrame().head()"
   ]
  },
  {
   "cell_type": "markdown",
   "id": "85ce771f",
   "metadata": {},
   "source": [
    "2. Tipe Data Campur"
   ]
  },
  {
   "cell_type": "code",
   "execution_count": 11,
   "id": "2862325e",
   "metadata": {},
   "outputs": [
    {
     "data": {
      "text/html": [
       "<div>\n",
       "<style scoped>\n",
       "    .dataframe tbody tr th:only-of-type {\n",
       "        vertical-align: middle;\n",
       "    }\n",
       "\n",
       "    .dataframe tbody tr th {\n",
       "        vertical-align: top;\n",
       "    }\n",
       "\n",
       "    .dataframe thead th {\n",
       "        text-align: right;\n",
       "    }\n",
       "</style>\n",
       "<table border=\"1\" class=\"dataframe\">\n",
       "  <thead>\n",
       "    <tr style=\"text-align: right;\">\n",
       "      <th></th>\n",
       "      <th>A</th>\n",
       "      <th>B</th>\n",
       "      <th>C</th>\n",
       "      <th>D</th>\n",
       "    </tr>\n",
       "  </thead>\n",
       "  <tbody>\n",
       "    <tr>\n",
       "      <th>0</th>\n",
       "      <td>0.0</td>\n",
       "      <td>0.0</td>\n",
       "      <td>foo1</td>\n",
       "      <td>2009-01-01</td>\n",
       "    </tr>\n",
       "    <tr>\n",
       "      <th>1</th>\n",
       "      <td>1.0</td>\n",
       "      <td>1.0</td>\n",
       "      <td>foo2</td>\n",
       "      <td>2009-01-02</td>\n",
       "    </tr>\n",
       "    <tr>\n",
       "      <th>2</th>\n",
       "      <td>2.0</td>\n",
       "      <td>0.0</td>\n",
       "      <td>foo3</td>\n",
       "      <td>2009-01-05</td>\n",
       "    </tr>\n",
       "    <tr>\n",
       "      <th>3</th>\n",
       "      <td>3.0</td>\n",
       "      <td>1.0</td>\n",
       "      <td>foo4</td>\n",
       "      <td>2009-01-06</td>\n",
       "    </tr>\n",
       "    <tr>\n",
       "      <th>4</th>\n",
       "      <td>4.0</td>\n",
       "      <td>0.0</td>\n",
       "      <td>foo5</td>\n",
       "      <td>2009-01-07</td>\n",
       "    </tr>\n",
       "  </tbody>\n",
       "</table>\n",
       "</div>"
      ],
      "text/plain": [
       "     A    B     C          D\n",
       "0  0.0  0.0  foo1 2009-01-01\n",
       "1  1.0  1.0  foo2 2009-01-02\n",
       "2  2.0  0.0  foo3 2009-01-05\n",
       "3  3.0  1.0  foo4 2009-01-06\n",
       "4  4.0  0.0  foo5 2009-01-07"
      ]
     },
     "execution_count": 11,
     "metadata": {},
     "output_type": "execute_result"
    }
   ],
   "source": [
    "pd.util.testing.makeMixedDataFrame().head()"
   ]
  },
  {
   "cell_type": "markdown",
   "id": "666f9e19",
   "metadata": {},
   "source": [
    "3. Data Deret Waktu"
   ]
  },
  {
   "cell_type": "code",
   "execution_count": 8,
   "id": "c36b0536",
   "metadata": {},
   "outputs": [
    {
     "data": {
      "text/html": [
       "<div>\n",
       "<style scoped>\n",
       "    .dataframe tbody tr th:only-of-type {\n",
       "        vertical-align: middle;\n",
       "    }\n",
       "\n",
       "    .dataframe tbody tr th {\n",
       "        vertical-align: top;\n",
       "    }\n",
       "\n",
       "    .dataframe thead th {\n",
       "        text-align: right;\n",
       "    }\n",
       "</style>\n",
       "<table border=\"1\" class=\"dataframe\">\n",
       "  <thead>\n",
       "    <tr style=\"text-align: right;\">\n",
       "      <th></th>\n",
       "      <th>A</th>\n",
       "      <th>B</th>\n",
       "      <th>C</th>\n",
       "      <th>D</th>\n",
       "    </tr>\n",
       "  </thead>\n",
       "  <tbody>\n",
       "    <tr>\n",
       "      <th>2000-01-03</th>\n",
       "      <td>-1.590220</td>\n",
       "      <td>-1.664319</td>\n",
       "      <td>-0.068502</td>\n",
       "      <td>-0.423522</td>\n",
       "    </tr>\n",
       "    <tr>\n",
       "      <th>2000-01-04</th>\n",
       "      <td>-2.103839</td>\n",
       "      <td>0.484063</td>\n",
       "      <td>-1.685758</td>\n",
       "      <td>0.619783</td>\n",
       "    </tr>\n",
       "    <tr>\n",
       "      <th>2000-01-05</th>\n",
       "      <td>0.959964</td>\n",
       "      <td>-0.535674</td>\n",
       "      <td>-0.415141</td>\n",
       "      <td>0.132268</td>\n",
       "    </tr>\n",
       "    <tr>\n",
       "      <th>2000-01-06</th>\n",
       "      <td>0.128701</td>\n",
       "      <td>-0.858555</td>\n",
       "      <td>1.275873</td>\n",
       "      <td>1.050357</td>\n",
       "    </tr>\n",
       "    <tr>\n",
       "      <th>2000-01-07</th>\n",
       "      <td>0.811198</td>\n",
       "      <td>-0.339874</td>\n",
       "      <td>-1.116918</td>\n",
       "      <td>1.038765</td>\n",
       "    </tr>\n",
       "  </tbody>\n",
       "</table>\n",
       "</div>"
      ],
      "text/plain": [
       "                   A         B         C         D\n",
       "2000-01-03 -1.590220 -1.664319 -0.068502 -0.423522\n",
       "2000-01-04 -2.103839  0.484063 -1.685758  0.619783\n",
       "2000-01-05  0.959964 -0.535674 -0.415141  0.132268\n",
       "2000-01-06  0.128701 -0.858555  1.275873  1.050357\n",
       "2000-01-07  0.811198 -0.339874 -1.116918  1.038765"
      ]
     },
     "execution_count": 8,
     "metadata": {},
     "output_type": "execute_result"
    }
   ],
   "source": [
    "pd.util.testing.makeTimeDataFrame().head()"
   ]
  },
  {
   "cell_type": "markdown",
   "id": "2e0a3b53",
   "metadata": {},
   "source": [
    "4. Data Frame dengan beberapa Missing Value secara acak"
   ]
  },
  {
   "cell_type": "code",
   "execution_count": 12,
   "id": "f6ece4b7",
   "metadata": {},
   "outputs": [
    {
     "data": {
      "text/html": [
       "<div>\n",
       "<style scoped>\n",
       "    .dataframe tbody tr th:only-of-type {\n",
       "        vertical-align: middle;\n",
       "    }\n",
       "\n",
       "    .dataframe tbody tr th {\n",
       "        vertical-align: top;\n",
       "    }\n",
       "\n",
       "    .dataframe thead th {\n",
       "        text-align: right;\n",
       "    }\n",
       "</style>\n",
       "<table border=\"1\" class=\"dataframe\">\n",
       "  <thead>\n",
       "    <tr style=\"text-align: right;\">\n",
       "      <th></th>\n",
       "      <th>A</th>\n",
       "      <th>B</th>\n",
       "      <th>C</th>\n",
       "      <th>D</th>\n",
       "    </tr>\n",
       "  </thead>\n",
       "  <tbody>\n",
       "    <tr>\n",
       "      <th>Du9CEZ54f6</th>\n",
       "      <td>0.867167</td>\n",
       "      <td>-0.092378</td>\n",
       "      <td>-1.269405</td>\n",
       "      <td>-0.844118</td>\n",
       "    </tr>\n",
       "    <tr>\n",
       "      <th>N9B7Vy0EvQ</th>\n",
       "      <td>0.108767</td>\n",
       "      <td>-0.144670</td>\n",
       "      <td>-0.080937</td>\n",
       "      <td>-0.608616</td>\n",
       "    </tr>\n",
       "    <tr>\n",
       "      <th>CMsvm3sgnM</th>\n",
       "      <td>1.302765</td>\n",
       "      <td>-0.438035</td>\n",
       "      <td>NaN</td>\n",
       "      <td>-1.639386</td>\n",
       "    </tr>\n",
       "    <tr>\n",
       "      <th>YlfJNy19Lq</th>\n",
       "      <td>0.063514</td>\n",
       "      <td>NaN</td>\n",
       "      <td>NaN</td>\n",
       "      <td>1.761429</td>\n",
       "    </tr>\n",
       "    <tr>\n",
       "      <th>49meJYw7FR</th>\n",
       "      <td>-1.516101</td>\n",
       "      <td>0.442323</td>\n",
       "      <td>-0.274754</td>\n",
       "      <td>0.073039</td>\n",
       "    </tr>\n",
       "  </tbody>\n",
       "</table>\n",
       "</div>"
      ],
      "text/plain": [
       "                   A         B         C         D\n",
       "Du9CEZ54f6  0.867167 -0.092378 -1.269405 -0.844118\n",
       "N9B7Vy0EvQ  0.108767 -0.144670 -0.080937 -0.608616\n",
       "CMsvm3sgnM  1.302765 -0.438035       NaN -1.639386\n",
       "YlfJNy19Lq  0.063514       NaN       NaN  1.761429\n",
       "49meJYw7FR -1.516101  0.442323 -0.274754  0.073039"
      ]
     },
     "execution_count": 12,
     "metadata": {},
     "output_type": "execute_result"
    }
   ],
   "source": [
    "pd.util.testing.makeMissingDataframe().head()"
   ]
  },
  {
   "cell_type": "code",
   "execution_count": null,
   "id": "ad22b0a1",
   "metadata": {},
   "outputs": [],
   "source": []
  }
 ],
 "metadata": {
  "kernelspec": {
   "display_name": "Python 3",
   "language": "python",
   "name": "python3"
  },
  "language_info": {
   "codemirror_mode": {
    "name": "ipython",
    "version": 3
   },
   "file_extension": ".py",
   "mimetype": "text/x-python",
   "name": "python",
   "nbconvert_exporter": "python",
   "pygments_lexer": "ipython3",
   "version": "3.8.8"
  }
 },
 "nbformat": 4,
 "nbformat_minor": 5
}
