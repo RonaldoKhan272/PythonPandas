{
 "cells": [
  {
   "cell_type": "markdown",
   "id": "6afe3efd",
   "metadata": {},
   "source": [
    "# Tips and Trick Python Pandas 07 !"
   ]
  },
  {
   "cell_type": "markdown",
   "id": "23ce9d75",
   "metadata": {},
   "source": [
    "# Menghapus Missing Values pada Data Frame"
   ]
  },
  {
   "cell_type": "markdown",
   "id": "4cd0c359",
   "metadata": {},
   "source": [
    "- Menghapus (`DROP`)\n",
    "- Missing Values (`NaN`)"
   ]
  },
  {
   "cell_type": "code",
   "execution_count": 1,
   "id": "1d4da195",
   "metadata": {},
   "outputs": [
    {
     "name": "stdout",
     "output_type": "stream",
     "text": [
      "1.2.4\n"
     ]
    }
   ],
   "source": [
    "import pandas as pd\n",
    "\n",
    "print(pd.__version__)"
   ]
  },
  {
   "cell_type": "code",
   "execution_count": 3,
   "id": "726a4f07",
   "metadata": {},
   "outputs": [
    {
     "data": {
      "text/html": [
       "<div>\n",
       "<style scoped>\n",
       "    .dataframe tbody tr th:only-of-type {\n",
       "        vertical-align: middle;\n",
       "    }\n",
       "\n",
       "    .dataframe tbody tr th {\n",
       "        vertical-align: top;\n",
       "    }\n",
       "\n",
       "    .dataframe thead th {\n",
       "        text-align: right;\n",
       "    }\n",
       "</style>\n",
       "<table border=\"1\" class=\"dataframe\">\n",
       "  <thead>\n",
       "    <tr style=\"text-align: right;\">\n",
       "      <th></th>\n",
       "      <th>index</th>\n",
       "      <th>A</th>\n",
       "      <th>B</th>\n",
       "      <th>C</th>\n",
       "      <th>D</th>\n",
       "    </tr>\n",
       "  </thead>\n",
       "  <tbody>\n",
       "    <tr>\n",
       "      <th>0</th>\n",
       "      <td>cswnD0uZe2</td>\n",
       "      <td>-1.400860</td>\n",
       "      <td>0.559931</td>\n",
       "      <td>NaN</td>\n",
       "      <td>-0.621418</td>\n",
       "    </tr>\n",
       "    <tr>\n",
       "      <th>1</th>\n",
       "      <td>7fTxvR8eYn</td>\n",
       "      <td>1.242954</td>\n",
       "      <td>NaN</td>\n",
       "      <td>-0.109148</td>\n",
       "      <td>-0.831404</td>\n",
       "    </tr>\n",
       "    <tr>\n",
       "      <th>2</th>\n",
       "      <td>LS0oxnokhU</td>\n",
       "      <td>0.832747</td>\n",
       "      <td>1.134462</td>\n",
       "      <td>0.166485</td>\n",
       "      <td>-0.434296</td>\n",
       "    </tr>\n",
       "    <tr>\n",
       "      <th>3</th>\n",
       "      <td>QqYzJGOqcC</td>\n",
       "      <td>-0.054797</td>\n",
       "      <td>-0.566592</td>\n",
       "      <td>1.544886</td>\n",
       "      <td>1.415669</td>\n",
       "    </tr>\n",
       "    <tr>\n",
       "      <th>4</th>\n",
       "      <td>OCNNv0Pv74</td>\n",
       "      <td>0.473036</td>\n",
       "      <td>0.420178</td>\n",
       "      <td>-0.319673</td>\n",
       "      <td>0.951145</td>\n",
       "    </tr>\n",
       "  </tbody>\n",
       "</table>\n",
       "</div>"
      ],
      "text/plain": [
       "        index         A         B         C         D\n",
       "0  cswnD0uZe2 -1.400860  0.559931       NaN -0.621418\n",
       "1  7fTxvR8eYn  1.242954       NaN -0.109148 -0.831404\n",
       "2  LS0oxnokhU  0.832747  1.134462  0.166485 -0.434296\n",
       "3  QqYzJGOqcC -0.054797 -0.566592  1.544886  1.415669\n",
       "4  OCNNv0Pv74  0.473036  0.420178 -0.319673  0.951145"
      ]
     },
     "execution_count": 3,
     "metadata": {},
     "output_type": "execute_result"
    }
   ],
   "source": [
    "df = pd.util.testing.makeMissingDataframe().reset_index()\n",
    "df.head()"
   ]
  },
  {
   "cell_type": "markdown",
   "id": "aed4138f",
   "metadata": {},
   "source": [
    "# Mengganti Nama Index Tabel"
   ]
  },
  {
   "cell_type": "code",
   "execution_count": 4,
   "id": "efa4e3fb",
   "metadata": {},
   "outputs": [
    {
     "data": {
      "text/html": [
       "<div>\n",
       "<style scoped>\n",
       "    .dataframe tbody tr th:only-of-type {\n",
       "        vertical-align: middle;\n",
       "    }\n",
       "\n",
       "    .dataframe tbody tr th {\n",
       "        vertical-align: top;\n",
       "    }\n",
       "\n",
       "    .dataframe thead th {\n",
       "        text-align: right;\n",
       "    }\n",
       "</style>\n",
       "<table border=\"1\" class=\"dataframe\">\n",
       "  <thead>\n",
       "    <tr style=\"text-align: right;\">\n",
       "      <th></th>\n",
       "      <th>Z</th>\n",
       "      <th>A</th>\n",
       "      <th>B</th>\n",
       "      <th>C</th>\n",
       "      <th>D</th>\n",
       "    </tr>\n",
       "  </thead>\n",
       "  <tbody>\n",
       "    <tr>\n",
       "      <th>0</th>\n",
       "      <td>cswnD0uZe2</td>\n",
       "      <td>-1.400860</td>\n",
       "      <td>0.559931</td>\n",
       "      <td>NaN</td>\n",
       "      <td>-0.621418</td>\n",
       "    </tr>\n",
       "    <tr>\n",
       "      <th>1</th>\n",
       "      <td>7fTxvR8eYn</td>\n",
       "      <td>1.242954</td>\n",
       "      <td>NaN</td>\n",
       "      <td>-0.109148</td>\n",
       "      <td>-0.831404</td>\n",
       "    </tr>\n",
       "    <tr>\n",
       "      <th>2</th>\n",
       "      <td>LS0oxnokhU</td>\n",
       "      <td>0.832747</td>\n",
       "      <td>1.134462</td>\n",
       "      <td>0.166485</td>\n",
       "      <td>-0.434296</td>\n",
       "    </tr>\n",
       "    <tr>\n",
       "      <th>3</th>\n",
       "      <td>QqYzJGOqcC</td>\n",
       "      <td>-0.054797</td>\n",
       "      <td>-0.566592</td>\n",
       "      <td>1.544886</td>\n",
       "      <td>1.415669</td>\n",
       "    </tr>\n",
       "    <tr>\n",
       "      <th>4</th>\n",
       "      <td>OCNNv0Pv74</td>\n",
       "      <td>0.473036</td>\n",
       "      <td>0.420178</td>\n",
       "      <td>-0.319673</td>\n",
       "      <td>0.951145</td>\n",
       "    </tr>\n",
       "  </tbody>\n",
       "</table>\n",
       "</div>"
      ],
      "text/plain": [
       "            Z         A         B         C         D\n",
       "0  cswnD0uZe2 -1.400860  0.559931       NaN -0.621418\n",
       "1  7fTxvR8eYn  1.242954       NaN -0.109148 -0.831404\n",
       "2  LS0oxnokhU  0.832747  1.134462  0.166485 -0.434296\n",
       "3  QqYzJGOqcC -0.054797 -0.566592  1.544886  1.415669\n",
       "4  OCNNv0Pv74  0.473036  0.420178 -0.319673  0.951145"
      ]
     },
     "execution_count": 4,
     "metadata": {},
     "output_type": "execute_result"
    }
   ],
   "source": [
    "df = df.rename(columns={'index':'Z'})\n",
    "df.head()"
   ]
  },
  {
   "cell_type": "markdown",
   "id": "0cfe7939",
   "metadata": {},
   "source": [
    "# Backup Data Frame"
   ]
  },
  {
   "cell_type": "code",
   "execution_count": 6,
   "id": "e3cd8e10",
   "metadata": {},
   "outputs": [],
   "source": [
    "df_backup = df.copy(deep = True)"
   ]
  },
  {
   "cell_type": "markdown",
   "id": "86685b8f",
   "metadata": {},
   "source": [
    "# Menghapus (drop) setiap kolom yang mengandung Missing Values"
   ]
  },
  {
   "cell_type": "code",
   "execution_count": 7,
   "id": "af55f036",
   "metadata": {},
   "outputs": [
    {
     "data": {
      "text/html": [
       "<div>\n",
       "<style scoped>\n",
       "    .dataframe tbody tr th:only-of-type {\n",
       "        vertical-align: middle;\n",
       "    }\n",
       "\n",
       "    .dataframe tbody tr th {\n",
       "        vertical-align: top;\n",
       "    }\n",
       "\n",
       "    .dataframe thead th {\n",
       "        text-align: right;\n",
       "    }\n",
       "</style>\n",
       "<table border=\"1\" class=\"dataframe\">\n",
       "  <thead>\n",
       "    <tr style=\"text-align: right;\">\n",
       "      <th></th>\n",
       "      <th>Z</th>\n",
       "    </tr>\n",
       "  </thead>\n",
       "  <tbody>\n",
       "    <tr>\n",
       "      <th>0</th>\n",
       "      <td>cswnD0uZe2</td>\n",
       "    </tr>\n",
       "    <tr>\n",
       "      <th>1</th>\n",
       "      <td>7fTxvR8eYn</td>\n",
       "    </tr>\n",
       "    <tr>\n",
       "      <th>2</th>\n",
       "      <td>LS0oxnokhU</td>\n",
       "    </tr>\n",
       "    <tr>\n",
       "      <th>3</th>\n",
       "      <td>QqYzJGOqcC</td>\n",
       "    </tr>\n",
       "    <tr>\n",
       "      <th>4</th>\n",
       "      <td>OCNNv0Pv74</td>\n",
       "    </tr>\n",
       "  </tbody>\n",
       "</table>\n",
       "</div>"
      ],
      "text/plain": [
       "            Z\n",
       "0  cswnD0uZe2\n",
       "1  7fTxvR8eYn\n",
       "2  LS0oxnokhU\n",
       "3  QqYzJGOqcC\n",
       "4  OCNNv0Pv74"
      ]
     },
     "execution_count": 7,
     "metadata": {},
     "output_type": "execute_result"
    }
   ],
   "source": [
    "df = df.dropna(axis='columns')\n",
    "df.head()"
   ]
  },
  {
   "cell_type": "markdown",
   "id": "9c741ce8",
   "metadata": {},
   "source": [
    "# Menghapus setiap kolom yang mengandung missing values berdasarkan threshold"
   ]
  },
  {
   "cell_type": "code",
   "execution_count": 8,
   "id": "1b68217a",
   "metadata": {},
   "outputs": [
    {
     "data": {
      "text/html": [
       "<div>\n",
       "<style scoped>\n",
       "    .dataframe tbody tr th:only-of-type {\n",
       "        vertical-align: middle;\n",
       "    }\n",
       "\n",
       "    .dataframe tbody tr th {\n",
       "        vertical-align: top;\n",
       "    }\n",
       "\n",
       "    .dataframe thead th {\n",
       "        text-align: right;\n",
       "    }\n",
       "</style>\n",
       "<table border=\"1\" class=\"dataframe\">\n",
       "  <thead>\n",
       "    <tr style=\"text-align: right;\">\n",
       "      <th></th>\n",
       "      <th>Z</th>\n",
       "    </tr>\n",
       "  </thead>\n",
       "  <tbody>\n",
       "    <tr>\n",
       "      <th>0</th>\n",
       "      <td>cswnD0uZe2</td>\n",
       "    </tr>\n",
       "    <tr>\n",
       "      <th>1</th>\n",
       "      <td>7fTxvR8eYn</td>\n",
       "    </tr>\n",
       "    <tr>\n",
       "      <th>2</th>\n",
       "      <td>LS0oxnokhU</td>\n",
       "    </tr>\n",
       "    <tr>\n",
       "      <th>3</th>\n",
       "      <td>QqYzJGOqcC</td>\n",
       "    </tr>\n",
       "    <tr>\n",
       "      <th>4</th>\n",
       "      <td>OCNNv0Pv74</td>\n",
       "    </tr>\n",
       "  </tbody>\n",
       "</table>\n",
       "</div>"
      ],
      "text/plain": [
       "            Z\n",
       "0  cswnD0uZe2\n",
       "1  7fTxvR8eYn\n",
       "2  LS0oxnokhU\n",
       "3  QqYzJGOqcC\n",
       "4  OCNNv0Pv74"
      ]
     },
     "execution_count": 8,
     "metadata": {},
     "output_type": "execute_result"
    }
   ],
   "source": [
    "treshold = len(df)*0.9\n",
    "df = df.dropna(thresh=treshold, axis='columns')\n",
    "df.head()"
   ]
  },
  {
   "cell_type": "code",
   "execution_count": null,
   "id": "c1d69469",
   "metadata": {},
   "outputs": [],
   "source": []
  }
 ],
 "metadata": {
  "kernelspec": {
   "display_name": "Python 3",
   "language": "python",
   "name": "python3"
  },
  "language_info": {
   "codemirror_mode": {
    "name": "ipython",
    "version": 3
   },
   "file_extension": ".py",
   "mimetype": "text/x-python",
   "name": "python",
   "nbconvert_exporter": "python",
   "pygments_lexer": "ipython3",
   "version": "3.8.8"
  }
 },
 "nbformat": 4,
 "nbformat_minor": 5
}
