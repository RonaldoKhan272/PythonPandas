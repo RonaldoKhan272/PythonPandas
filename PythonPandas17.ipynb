{
 "cells": [
  {
   "cell_type": "markdown",
   "id": "94326be2",
   "metadata": {},
   "source": [
    "# Tips and Trick Python Pandas 17"
   ]
  },
  {
   "cell_type": "markdown",
   "id": "9459e24a",
   "metadata": {},
   "source": [
    "# Resampling Data Deret Waktu (Time Series Data)"
   ]
  },
  {
   "cell_type": "markdown",
   "id": "3ee9f9da",
   "metadata": {},
   "source": [
    "# Import Module"
   ]
  },
  {
   "cell_type": "code",
   "execution_count": 2,
   "id": "4e2fcd60",
   "metadata": {},
   "outputs": [
    {
     "name": "stdout",
     "output_type": "stream",
     "text": [
      "1.2.4\n",
      "1.20.1\n"
     ]
    }
   ],
   "source": [
    "import pandas as pd\n",
    "import numpy as np\n",
    "\n",
    "print(pd.__version__)\n",
    "print(np.__version__)"
   ]
  },
  {
   "cell_type": "markdown",
   "id": "e48fe870",
   "metadata": {},
   "source": [
    "# Buat Data Frame"
   ]
  },
  {
   "cell_type": "markdown",
   "id": "6bc2dcee",
   "metadata": {},
   "source": [
    "- 365 = jumlah hari dalam 1 tahun\n",
    "- 24 = jumlah jam dalam 1 hari\n",
    "- `freq = 'H'` = per jam"
   ]
  },
  {
   "cell_type": "markdown",
   "id": "ff6b58a2",
   "metadata": {},
   "source": [
    "Berbasis hour / jam"
   ]
  },
  {
   "cell_type": "code",
   "execution_count": 8,
   "id": "1e51511b",
   "metadata": {},
   "outputs": [
    {
     "data": {
      "text/html": [
       "<div>\n",
       "<style scoped>\n",
       "    .dataframe tbody tr th:only-of-type {\n",
       "        vertical-align: middle;\n",
       "    }\n",
       "\n",
       "    .dataframe tbody tr th {\n",
       "        vertical-align: top;\n",
       "    }\n",
       "\n",
       "    .dataframe thead th {\n",
       "        text-align: right;\n",
       "    }\n",
       "</style>\n",
       "<table border=\"1\" class=\"dataframe\">\n",
       "  <thead>\n",
       "    <tr style=\"text-align: right;\">\n",
       "      <th></th>\n",
       "      <th>col1</th>\n",
       "      <th>col2</th>\n",
       "    </tr>\n",
       "  </thead>\n",
       "  <tbody>\n",
       "    <tr>\n",
       "      <th>2000-01-01 00:00:00</th>\n",
       "      <td>12</td>\n",
       "      <td>14</td>\n",
       "    </tr>\n",
       "    <tr>\n",
       "      <th>2000-01-01 01:00:00</th>\n",
       "      <td>19</td>\n",
       "      <td>12</td>\n",
       "    </tr>\n",
       "    <tr>\n",
       "      <th>2000-01-01 02:00:00</th>\n",
       "      <td>1</td>\n",
       "      <td>18</td>\n",
       "    </tr>\n",
       "    <tr>\n",
       "      <th>2000-01-01 03:00:00</th>\n",
       "      <td>11</td>\n",
       "      <td>5</td>\n",
       "    </tr>\n",
       "    <tr>\n",
       "      <th>2000-01-01 04:00:00</th>\n",
       "      <td>4</td>\n",
       "      <td>5</td>\n",
       "    </tr>\n",
       "    <tr>\n",
       "      <th>...</th>\n",
       "      <td>...</td>\n",
       "      <td>...</td>\n",
       "    </tr>\n",
       "    <tr>\n",
       "      <th>2000-12-30 19:00:00</th>\n",
       "      <td>13</td>\n",
       "      <td>2</td>\n",
       "    </tr>\n",
       "    <tr>\n",
       "      <th>2000-12-30 20:00:00</th>\n",
       "      <td>7</td>\n",
       "      <td>5</td>\n",
       "    </tr>\n",
       "    <tr>\n",
       "      <th>2000-12-30 21:00:00</th>\n",
       "      <td>19</td>\n",
       "      <td>14</td>\n",
       "    </tr>\n",
       "    <tr>\n",
       "      <th>2000-12-30 22:00:00</th>\n",
       "      <td>18</td>\n",
       "      <td>14</td>\n",
       "    </tr>\n",
       "    <tr>\n",
       "      <th>2000-12-30 23:00:00</th>\n",
       "      <td>6</td>\n",
       "      <td>12</td>\n",
       "    </tr>\n",
       "  </tbody>\n",
       "</table>\n",
       "<p>8760 rows × 2 columns</p>\n",
       "</div>"
      ],
      "text/plain": [
       "                     col1  col2\n",
       "2000-01-01 00:00:00    12    14\n",
       "2000-01-01 01:00:00    19    12\n",
       "2000-01-01 02:00:00     1    18\n",
       "2000-01-01 03:00:00    11     5\n",
       "2000-01-01 04:00:00     4     5\n",
       "...                   ...   ...\n",
       "2000-12-30 19:00:00    13     2\n",
       "2000-12-30 20:00:00     7     5\n",
       "2000-12-30 21:00:00    19    14\n",
       "2000-12-30 22:00:00    18    14\n",
       "2000-12-30 23:00:00     6    12\n",
       "\n",
       "[8760 rows x 2 columns]"
      ]
     },
     "execution_count": 8,
     "metadata": {},
     "output_type": "execute_result"
    }
   ],
   "source": [
    "n_rows = 365 * 24\n",
    "n_cols = 2\n",
    "cols = ['col1', 'col2']\n",
    "\n",
    "df = pd.DataFrame(np.random.randint(1, 20, size=(n_rows, n_cols)),\n",
    "                  columns=cols)\n",
    "\n",
    "df.index = pd.util.testing.makeDateIndex(n_rows, freq='H')\n",
    "df"
   ]
  },
  {
   "cell_type": "markdown",
   "id": "1db2d6da",
   "metadata": {},
   "source": [
    "# Resampling Data dengan Interval Monthly"
   ]
  },
  {
   "cell_type": "markdown",
   "id": "5400016f",
   "metadata": {},
   "source": [
    "Menggunakan method = `resample()` dengan pemanggilan agregasi dengan `sum()`"
   ]
  },
  {
   "cell_type": "markdown",
   "id": "771f317c",
   "metadata": {},
   "source": [
    "`to_frame` untuk mempercantik tabel"
   ]
  },
  {
   "cell_type": "markdown",
   "id": "73af5aa4",
   "metadata": {},
   "source": [
    "Parameter resample() = `'M'` untuk Monthly"
   ]
  },
  {
   "cell_type": "code",
   "execution_count": 16,
   "id": "90821a2b",
   "metadata": {},
   "outputs": [
    {
     "data": {
      "text/html": [
       "<div>\n",
       "<style scoped>\n",
       "    .dataframe tbody tr th:only-of-type {\n",
       "        vertical-align: middle;\n",
       "    }\n",
       "\n",
       "    .dataframe tbody tr th {\n",
       "        vertical-align: top;\n",
       "    }\n",
       "\n",
       "    .dataframe thead th {\n",
       "        text-align: right;\n",
       "    }\n",
       "</style>\n",
       "<table border=\"1\" class=\"dataframe\">\n",
       "  <thead>\n",
       "    <tr style=\"text-align: right;\">\n",
       "      <th></th>\n",
       "      <th>col1</th>\n",
       "    </tr>\n",
       "  </thead>\n",
       "  <tbody>\n",
       "    <tr>\n",
       "      <th>2000-01-31</th>\n",
       "      <td>7457</td>\n",
       "    </tr>\n",
       "    <tr>\n",
       "      <th>2000-02-29</th>\n",
       "      <td>6985</td>\n",
       "    </tr>\n",
       "    <tr>\n",
       "      <th>2000-03-31</th>\n",
       "      <td>7504</td>\n",
       "    </tr>\n",
       "    <tr>\n",
       "      <th>2000-04-30</th>\n",
       "      <td>7190</td>\n",
       "    </tr>\n",
       "    <tr>\n",
       "      <th>2000-05-31</th>\n",
       "      <td>7228</td>\n",
       "    </tr>\n",
       "    <tr>\n",
       "      <th>2000-06-30</th>\n",
       "      <td>6875</td>\n",
       "    </tr>\n",
       "    <tr>\n",
       "      <th>2000-07-31</th>\n",
       "      <td>7586</td>\n",
       "    </tr>\n",
       "    <tr>\n",
       "      <th>2000-08-31</th>\n",
       "      <td>7622</td>\n",
       "    </tr>\n",
       "    <tr>\n",
       "      <th>2000-09-30</th>\n",
       "      <td>6827</td>\n",
       "    </tr>\n",
       "    <tr>\n",
       "      <th>2000-10-31</th>\n",
       "      <td>7523</td>\n",
       "    </tr>\n",
       "    <tr>\n",
       "      <th>2000-11-30</th>\n",
       "      <td>7040</td>\n",
       "    </tr>\n",
       "    <tr>\n",
       "      <th>2000-12-31</th>\n",
       "      <td>7063</td>\n",
       "    </tr>\n",
       "  </tbody>\n",
       "</table>\n",
       "</div>"
      ],
      "text/plain": [
       "            col1\n",
       "2000-01-31  7457\n",
       "2000-02-29  6985\n",
       "2000-03-31  7504\n",
       "2000-04-30  7190\n",
       "2000-05-31  7228\n",
       "2000-06-30  6875\n",
       "2000-07-31  7586\n",
       "2000-08-31  7622\n",
       "2000-09-30  6827\n",
       "2000-10-31  7523\n",
       "2000-11-30  7040\n",
       "2000-12-31  7063"
      ]
     },
     "execution_count": 16,
     "metadata": {},
     "output_type": "execute_result"
    }
   ],
   "source": [
    "df.resample('M')['col1'].sum().to_frame()"
   ]
  },
  {
   "cell_type": "markdown",
   "id": "4e923e37",
   "metadata": {},
   "source": [
    "# Resampling Data dengan Interval Daily"
   ]
  },
  {
   "cell_type": "markdown",
   "id": "c3c5a1f8",
   "metadata": {},
   "source": [
    "Parameter resample() = `'D'` untuk Daily"
   ]
  },
  {
   "cell_type": "code",
   "execution_count": 17,
   "id": "9938bab9",
   "metadata": {},
   "outputs": [
    {
     "data": {
      "text/html": [
       "<div>\n",
       "<style scoped>\n",
       "    .dataframe tbody tr th:only-of-type {\n",
       "        vertical-align: middle;\n",
       "    }\n",
       "\n",
       "    .dataframe tbody tr th {\n",
       "        vertical-align: top;\n",
       "    }\n",
       "\n",
       "    .dataframe thead th {\n",
       "        text-align: right;\n",
       "    }\n",
       "</style>\n",
       "<table border=\"1\" class=\"dataframe\">\n",
       "  <thead>\n",
       "    <tr style=\"text-align: right;\">\n",
       "      <th></th>\n",
       "      <th>col1</th>\n",
       "    </tr>\n",
       "  </thead>\n",
       "  <tbody>\n",
       "    <tr>\n",
       "      <th>2000-01-01</th>\n",
       "      <td>210</td>\n",
       "    </tr>\n",
       "    <tr>\n",
       "      <th>2000-01-02</th>\n",
       "      <td>226</td>\n",
       "    </tr>\n",
       "    <tr>\n",
       "      <th>2000-01-03</th>\n",
       "      <td>216</td>\n",
       "    </tr>\n",
       "    <tr>\n",
       "      <th>2000-01-04</th>\n",
       "      <td>235</td>\n",
       "    </tr>\n",
       "    <tr>\n",
       "      <th>2000-01-05</th>\n",
       "      <td>223</td>\n",
       "    </tr>\n",
       "    <tr>\n",
       "      <th>...</th>\n",
       "      <td>...</td>\n",
       "    </tr>\n",
       "    <tr>\n",
       "      <th>2000-12-26</th>\n",
       "      <td>278</td>\n",
       "    </tr>\n",
       "    <tr>\n",
       "      <th>2000-12-27</th>\n",
       "      <td>227</td>\n",
       "    </tr>\n",
       "    <tr>\n",
       "      <th>2000-12-28</th>\n",
       "      <td>272</td>\n",
       "    </tr>\n",
       "    <tr>\n",
       "      <th>2000-12-29</th>\n",
       "      <td>235</td>\n",
       "    </tr>\n",
       "    <tr>\n",
       "      <th>2000-12-30</th>\n",
       "      <td>257</td>\n",
       "    </tr>\n",
       "  </tbody>\n",
       "</table>\n",
       "<p>365 rows × 1 columns</p>\n",
       "</div>"
      ],
      "text/plain": [
       "            col1\n",
       "2000-01-01   210\n",
       "2000-01-02   226\n",
       "2000-01-03   216\n",
       "2000-01-04   235\n",
       "2000-01-05   223\n",
       "...          ...\n",
       "2000-12-26   278\n",
       "2000-12-27   227\n",
       "2000-12-28   272\n",
       "2000-12-29   235\n",
       "2000-12-30   257\n",
       "\n",
       "[365 rows x 1 columns]"
      ]
     },
     "execution_count": 17,
     "metadata": {},
     "output_type": "execute_result"
    }
   ],
   "source": [
    "df.resample('D')['col1'].sum().to_frame()"
   ]
  },
  {
   "cell_type": "code",
   "execution_count": null,
   "id": "8d536832",
   "metadata": {},
   "outputs": [],
   "source": []
  }
 ],
 "metadata": {
  "kernelspec": {
   "display_name": "Python 3",
   "language": "python",
   "name": "python3"
  },
  "language_info": {
   "codemirror_mode": {
    "name": "ipython",
    "version": 3
   },
   "file_extension": ".py",
   "mimetype": "text/x-python",
   "name": "python",
   "nbconvert_exporter": "python",
   "pygments_lexer": "ipython3",
   "version": "3.8.8"
  }
 },
 "nbformat": 4,
 "nbformat_minor": 5
}
