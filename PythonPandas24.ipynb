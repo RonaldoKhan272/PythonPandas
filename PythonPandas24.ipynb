{
 "cells": [
  {
   "cell_type": "markdown",
   "id": "63d47e5e",
   "metadata": {},
   "source": [
    "# Tips and Trick Python Pandas 24"
   ]
  },
  {
   "cell_type": "markdown",
   "id": "edc2a157",
   "metadata": {},
   "source": [
    "# UTC dan Konversi Zona Waktu Pada Python Pandas"
   ]
  },
  {
   "cell_type": "markdown",
   "id": "d33b3432",
   "metadata": {},
   "source": [
    "# Import Module"
   ]
  },
  {
   "cell_type": "code",
   "execution_count": 21,
   "id": "344d9f7c",
   "metadata": {},
   "outputs": [
    {
     "name": "stdout",
     "output_type": "stream",
     "text": [
      "1.2.4\n"
     ]
    }
   ],
   "source": [
    "import pandas as pd\n",
    "\n",
    "print(pd.__version__)"
   ]
  },
  {
   "cell_type": "markdown",
   "id": "773480e0",
   "metadata": {},
   "source": [
    "# Buat Pandas Series"
   ]
  },
  {
   "cell_type": "markdown",
   "id": "1cfb9390",
   "metadata": {},
   "source": [
    "`series`(range(mulai dari, berakhir, interval))"
   ]
  },
  {
   "cell_type": "markdown",
   "id": "19f45b45",
   "metadata": {},
   "source": [
    "Mengapa `1591683521` hal ini disebut, [Unix Epoch Time](https://en.wikipedia.org/wiki/Unix_time)\n",
    "\n",
    "Bisa dihitung dengan [Epoch Time Converter](https://www.epochconverter.com/)"
   ]
  },
  {
   "cell_type": "code",
   "execution_count": 22,
   "id": "770647e2",
   "metadata": {},
   "outputs": [
    {
     "data": {
      "text/plain": [
       "0   2020-06-09 06:18:41\n",
       "1   2020-06-09 07:18:41\n",
       "2   2020-06-09 08:18:41\n",
       "3   2020-06-09 09:18:41\n",
       "4   2020-06-09 10:18:41\n",
       "dtype: datetime64[ns]"
      ]
     },
     "execution_count": 22,
     "metadata": {},
     "output_type": "execute_result"
    }
   ],
   "source": [
    "s = pd.Series(range(1591683521, 1592201921, 3600)) #3600 detik dalam 1 jam\n",
    "s = pd.to_datetime(s, unit='s')\n",
    "s.head()"
   ]
  },
  {
   "cell_type": "markdown",
   "id": "c7c04a6e",
   "metadata": {},
   "source": [
    "# Pengaturan Zona Waktu (Time Zone)"
   ]
  },
  {
   "cell_type": "markdown",
   "id": "5fb51e46",
   "metadata": {},
   "source": [
    "Set ke Time Zone UTC"
   ]
  },
  {
   "cell_type": "code",
   "execution_count": 23,
   "id": "b8a33294",
   "metadata": {},
   "outputs": [
    {
     "data": {
      "text/plain": [
       "0   2020-06-09 06:18:41+00:00\n",
       "1   2020-06-09 07:18:41+00:00\n",
       "2   2020-06-09 08:18:41+00:00\n",
       "3   2020-06-09 09:18:41+00:00\n",
       "4   2020-06-09 10:18:41+00:00\n",
       "dtype: datetime64[ns, UTC]"
      ]
     },
     "execution_count": 23,
     "metadata": {},
     "output_type": "execute_result"
    }
   ],
   "source": [
    "s = s.dt.tz_localize('UTC')\n",
    "s.head()"
   ]
  },
  {
   "cell_type": "markdown",
   "id": "57172b66",
   "metadata": {},
   "source": [
    "Set ke Time Zone Local Jakarta"
   ]
  },
  {
   "cell_type": "code",
   "execution_count": 24,
   "id": "fb38df73",
   "metadata": {},
   "outputs": [
    {
     "data": {
      "text/plain": [
       "0   2020-06-09 13:18:41+07:00\n",
       "1   2020-06-09 14:18:41+07:00\n",
       "2   2020-06-09 15:18:41+07:00\n",
       "3   2020-06-09 16:18:41+07:00\n",
       "4   2020-06-09 17:18:41+07:00\n",
       "dtype: datetime64[ns, Asia/Jakarta]"
      ]
     },
     "execution_count": 24,
     "metadata": {},
     "output_type": "execute_result"
    }
   ],
   "source": [
    "s = s.dt.tz_convert('Asia/Jakarta')\n",
    "s.head()"
   ]
  },
  {
   "cell_type": "markdown",
   "id": "957aeed7",
   "metadata": {},
   "source": [
    "Set ke Time Zone Autralia"
   ]
  },
  {
   "cell_type": "code",
   "execution_count": 25,
   "id": "20e2557d",
   "metadata": {},
   "outputs": [
    {
     "data": {
      "text/plain": [
       "0   2020-06-09 16:18:41+10:00\n",
       "1   2020-06-09 17:18:41+10:00\n",
       "2   2020-06-09 18:18:41+10:00\n",
       "3   2020-06-09 19:18:41+10:00\n",
       "4   2020-06-09 20:18:41+10:00\n",
       "dtype: datetime64[ns, Australia/Hobart]"
      ]
     },
     "execution_count": 25,
     "metadata": {},
     "output_type": "execute_result"
    }
   ],
   "source": [
    "s = s.dt.tz_convert('Australia/Hobart')\n",
    "s.head()"
   ]
  },
  {
   "cell_type": "code",
   "execution_count": null,
   "id": "8836339e",
   "metadata": {},
   "outputs": [],
   "source": []
  }
 ],
 "metadata": {
  "kernelspec": {
   "display_name": "Python 3",
   "language": "python",
   "name": "python3"
  },
  "language_info": {
   "codemirror_mode": {
    "name": "ipython",
    "version": 3
   },
   "file_extension": ".py",
   "mimetype": "text/x-python",
   "name": "python",
   "nbconvert_exporter": "python",
   "pygments_lexer": "ipython3",
   "version": "3.8.8"
  }
 },
 "nbformat": 4,
 "nbformat_minor": 5
}
