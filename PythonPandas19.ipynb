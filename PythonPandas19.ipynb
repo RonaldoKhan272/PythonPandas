{
 "cells": [
  {
   "cell_type": "markdown",
   "id": "c621f641",
   "metadata": {},
   "source": [
    "# Tips and Trick Python Pandas 19"
   ]
  },
  {
   "cell_type": "markdown",
   "id": "733450ea",
   "metadata": {},
   "source": [
    "# Formatting Tampilan Pandas Data Frame"
   ]
  },
  {
   "cell_type": "markdown",
   "id": "efbbb426",
   "metadata": {},
   "source": [
    "# Import Module"
   ]
  },
  {
   "cell_type": "code",
   "execution_count": 29,
   "id": "a4763a5a",
   "metadata": {},
   "outputs": [
    {
     "name": "stdout",
     "output_type": "stream",
     "text": [
      "1.2.4\n",
      "1.20.1\n"
     ]
    }
   ],
   "source": [
    "import pandas as pd\n",
    "import numpy as np\n",
    "\n",
    "print(pd.__version__)\n",
    "print(np.__version__)"
   ]
  },
  {
   "cell_type": "markdown",
   "id": "486231fc",
   "metadata": {},
   "source": [
    "# Buat Data Frame"
   ]
  },
  {
   "cell_type": "code",
   "execution_count": 30,
   "id": "4a577bd4",
   "metadata": {},
   "outputs": [
    {
     "data": {
      "text/html": [
       "<div>\n",
       "<style scoped>\n",
       "    .dataframe tbody tr th:only-of-type {\n",
       "        vertical-align: middle;\n",
       "    }\n",
       "\n",
       "    .dataframe tbody tr th {\n",
       "        vertical-align: top;\n",
       "    }\n",
       "\n",
       "    .dataframe thead th {\n",
       "        text-align: right;\n",
       "    }\n",
       "</style>\n",
       "<table border=\"1\" class=\"dataframe\">\n",
       "  <thead>\n",
       "    <tr style=\"text-align: right;\">\n",
       "      <th></th>\n",
       "      <th>omset</th>\n",
       "      <th>operasional</th>\n",
       "    </tr>\n",
       "  </thead>\n",
       "  <tbody>\n",
       "    <tr>\n",
       "      <th>0</th>\n",
       "      <td>3</td>\n",
       "      <td>7</td>\n",
       "    </tr>\n",
       "    <tr>\n",
       "      <th>1</th>\n",
       "      <td>15</td>\n",
       "      <td>8</td>\n",
       "    </tr>\n",
       "    <tr>\n",
       "      <th>2</th>\n",
       "      <td>6</td>\n",
       "      <td>3</td>\n",
       "    </tr>\n",
       "    <tr>\n",
       "      <th>3</th>\n",
       "      <td>4</td>\n",
       "      <td>11</td>\n",
       "    </tr>\n",
       "    <tr>\n",
       "      <th>4</th>\n",
       "      <td>2</td>\n",
       "      <td>19</td>\n",
       "    </tr>\n",
       "  </tbody>\n",
       "</table>\n",
       "</div>"
      ],
      "text/plain": [
       "   omset  operasional\n",
       "0      3            7\n",
       "1     15            8\n",
       "2      6            3\n",
       "3      4           11\n",
       "4      2           19"
      ]
     },
     "execution_count": 30,
     "metadata": {},
     "output_type": "execute_result"
    }
   ],
   "source": [
    "n_rows = 5\n",
    "n_cols = 2\n",
    "cols = ['omset','operasional']\n",
    "\n",
    "df = pd.DataFrame(np.random.randint(1, 20, size=(n_rows, n_cols)),\n",
    "                 columns = cols)\n",
    "df"
   ]
  },
  {
   "cell_type": "code",
   "execution_count": 31,
   "id": "d8aa2b1d",
   "metadata": {},
   "outputs": [
    {
     "data": {
      "text/html": [
       "<div>\n",
       "<style scoped>\n",
       "    .dataframe tbody tr th:only-of-type {\n",
       "        vertical-align: middle;\n",
       "    }\n",
       "\n",
       "    .dataframe tbody tr th {\n",
       "        vertical-align: top;\n",
       "    }\n",
       "\n",
       "    .dataframe thead th {\n",
       "        text-align: right;\n",
       "    }\n",
       "</style>\n",
       "<table border=\"1\" class=\"dataframe\">\n",
       "  <thead>\n",
       "    <tr style=\"text-align: right;\">\n",
       "      <th></th>\n",
       "      <th>omset</th>\n",
       "      <th>operasional</th>\n",
       "    </tr>\n",
       "  </thead>\n",
       "  <tbody>\n",
       "    <tr>\n",
       "      <th>0</th>\n",
       "      <td>300000</td>\n",
       "      <td>70000</td>\n",
       "    </tr>\n",
       "    <tr>\n",
       "      <th>1</th>\n",
       "      <td>1500000</td>\n",
       "      <td>80000</td>\n",
       "    </tr>\n",
       "    <tr>\n",
       "      <th>2</th>\n",
       "      <td>600000</td>\n",
       "      <td>30000</td>\n",
       "    </tr>\n",
       "    <tr>\n",
       "      <th>3</th>\n",
       "      <td>400000</td>\n",
       "      <td>110000</td>\n",
       "    </tr>\n",
       "    <tr>\n",
       "      <th>4</th>\n",
       "      <td>200000</td>\n",
       "      <td>190000</td>\n",
       "    </tr>\n",
       "  </tbody>\n",
       "</table>\n",
       "</div>"
      ],
      "text/plain": [
       "     omset  operasional\n",
       "0   300000        70000\n",
       "1  1500000        80000\n",
       "2   600000        30000\n",
       "3   400000       110000\n",
       "4   200000       190000"
      ]
     },
     "execution_count": 31,
     "metadata": {},
     "output_type": "execute_result"
    }
   ],
   "source": [
    "df['omset'] = df['omset']*100_000\n",
    "df['operasional'] = df['operasional'] * 10_000\n",
    "df"
   ]
  },
  {
   "cell_type": "code",
   "execution_count": 32,
   "id": "21ac2a49",
   "metadata": {},
   "outputs": [
    {
     "data": {
      "text/html": [
       "<div>\n",
       "<style scoped>\n",
       "    .dataframe tbody tr th:only-of-type {\n",
       "        vertical-align: middle;\n",
       "    }\n",
       "\n",
       "    .dataframe tbody tr th {\n",
       "        vertical-align: top;\n",
       "    }\n",
       "\n",
       "    .dataframe thead th {\n",
       "        text-align: right;\n",
       "    }\n",
       "</style>\n",
       "<table border=\"1\" class=\"dataframe\">\n",
       "  <thead>\n",
       "    <tr style=\"text-align: right;\">\n",
       "      <th></th>\n",
       "      <th>tanggal</th>\n",
       "      <th>omset</th>\n",
       "      <th>operasional</th>\n",
       "    </tr>\n",
       "  </thead>\n",
       "  <tbody>\n",
       "    <tr>\n",
       "      <th>0</th>\n",
       "      <td>2000-01-01</td>\n",
       "      <td>300000</td>\n",
       "      <td>70000</td>\n",
       "    </tr>\n",
       "    <tr>\n",
       "      <th>1</th>\n",
       "      <td>2000-01-02</td>\n",
       "      <td>1500000</td>\n",
       "      <td>80000</td>\n",
       "    </tr>\n",
       "    <tr>\n",
       "      <th>2</th>\n",
       "      <td>2000-01-03</td>\n",
       "      <td>600000</td>\n",
       "      <td>30000</td>\n",
       "    </tr>\n",
       "    <tr>\n",
       "      <th>3</th>\n",
       "      <td>2000-01-04</td>\n",
       "      <td>400000</td>\n",
       "      <td>110000</td>\n",
       "    </tr>\n",
       "    <tr>\n",
       "      <th>4</th>\n",
       "      <td>2000-01-05</td>\n",
       "      <td>200000</td>\n",
       "      <td>190000</td>\n",
       "    </tr>\n",
       "  </tbody>\n",
       "</table>\n",
       "</div>"
      ],
      "text/plain": [
       "     tanggal    omset  operasional\n",
       "0 2000-01-01   300000        70000\n",
       "1 2000-01-02  1500000        80000\n",
       "2 2000-01-03   600000        30000\n",
       "3 2000-01-04   400000       110000\n",
       "4 2000-01-05   200000       190000"
      ]
     },
     "execution_count": 32,
     "metadata": {},
     "output_type": "execute_result"
    }
   ],
   "source": [
    "df.index = pd.util.testing.makeDateIndex(n_rows, freq='D')\n",
    "df = df.reset_index()\n",
    "df = df.rename(columns={'index':'tanggal'})\n",
    "df"
   ]
  },
  {
   "cell_type": "markdown",
   "id": "75eef971",
   "metadata": {},
   "source": [
    "# Melakukan Formatting Tampilan Data Frame"
   ]
  },
  {
   "cell_type": "code",
   "execution_count": 33,
   "id": "0fcc7ddb",
   "metadata": {},
   "outputs": [
    {
     "data": {
      "text/html": [
       "<style  type=\"text/css\" >\n",
       "</style><table id=\"T_fa8ac_\" ><thead>    <tr>        <th class=\"blank level0\" ></th>        <th class=\"col_heading level0 col0\" >tanggal</th>        <th class=\"col_heading level0 col1\" >omset</th>        <th class=\"col_heading level0 col2\" >operasional</th>    </tr></thead><tbody>\n",
       "                <tr>\n",
       "                        <th id=\"T_fa8ac_level0_row0\" class=\"row_heading level0 row0\" >0</th>\n",
       "                        <td id=\"T_fa8ac_row0_col0\" class=\"data row0 col0\" >01/01/00</td>\n",
       "                        <td id=\"T_fa8ac_row0_col1\" class=\"data row0 col1\" >Rp 300000.00</td>\n",
       "                        <td id=\"T_fa8ac_row0_col2\" class=\"data row0 col2\" >Rp 70000.00</td>\n",
       "            </tr>\n",
       "            <tr>\n",
       "                        <th id=\"T_fa8ac_level0_row1\" class=\"row_heading level0 row1\" >1</th>\n",
       "                        <td id=\"T_fa8ac_row1_col0\" class=\"data row1 col0\" >02/01/00</td>\n",
       "                        <td id=\"T_fa8ac_row1_col1\" class=\"data row1 col1\" >Rp 1500000.00</td>\n",
       "                        <td id=\"T_fa8ac_row1_col2\" class=\"data row1 col2\" >Rp 80000.00</td>\n",
       "            </tr>\n",
       "            <tr>\n",
       "                        <th id=\"T_fa8ac_level0_row2\" class=\"row_heading level0 row2\" >2</th>\n",
       "                        <td id=\"T_fa8ac_row2_col0\" class=\"data row2 col0\" >03/01/00</td>\n",
       "                        <td id=\"T_fa8ac_row2_col1\" class=\"data row2 col1\" >Rp 600000.00</td>\n",
       "                        <td id=\"T_fa8ac_row2_col2\" class=\"data row2 col2\" >Rp 30000.00</td>\n",
       "            </tr>\n",
       "            <tr>\n",
       "                        <th id=\"T_fa8ac_level0_row3\" class=\"row_heading level0 row3\" >3</th>\n",
       "                        <td id=\"T_fa8ac_row3_col0\" class=\"data row3 col0\" >04/01/00</td>\n",
       "                        <td id=\"T_fa8ac_row3_col1\" class=\"data row3 col1\" >Rp 400000.00</td>\n",
       "                        <td id=\"T_fa8ac_row3_col2\" class=\"data row3 col2\" >Rp 110000.00</td>\n",
       "            </tr>\n",
       "            <tr>\n",
       "                        <th id=\"T_fa8ac_level0_row4\" class=\"row_heading level0 row4\" >4</th>\n",
       "                        <td id=\"T_fa8ac_row4_col0\" class=\"data row4 col0\" >05/01/00</td>\n",
       "                        <td id=\"T_fa8ac_row4_col1\" class=\"data row4 col1\" >Rp 200000.00</td>\n",
       "                        <td id=\"T_fa8ac_row4_col2\" class=\"data row4 col2\" >Rp 190000.00</td>\n",
       "            </tr>\n",
       "    </tbody></table>"
      ],
      "text/plain": [
       "<pandas.io.formats.style.Styler at 0x22e0d68b5b0>"
      ]
     },
     "execution_count": 33,
     "metadata": {},
     "output_type": "execute_result"
    }
   ],
   "source": [
    "formatku = {'tanggal':'{:%d/%m/%y}',\n",
    "           'operasional':'Rp {:.2f}',\n",
    "           'omset':'Rp {:.2f}'}\n",
    "laporan = df.style.format(formatku)\n",
    "laporan"
   ]
  },
  {
   "cell_type": "markdown",
   "id": "6cc1d2f8",
   "metadata": {},
   "source": [
    "Bukan Data Frame namun `Styler`"
   ]
  },
  {
   "cell_type": "code",
   "execution_count": 34,
   "id": "c07ee305",
   "metadata": {},
   "outputs": [
    {
     "data": {
      "text/plain": [
       "pandas.io.formats.style.Styler"
      ]
     },
     "execution_count": 34,
     "metadata": {},
     "output_type": "execute_result"
    }
   ],
   "source": [
    "type(laporan)"
   ]
  },
  {
   "cell_type": "code",
   "execution_count": 35,
   "id": "f86d0fb9",
   "metadata": {},
   "outputs": [
    {
     "data": {
      "text/html": [
       "<style  type=\"text/css\" >\n",
       "</style><table id=\"T_fa8ac_\" ><thead>    <tr>        <th class=\"col_heading level0 col0\" >tanggal</th>        <th class=\"col_heading level0 col1\" >omset</th>        <th class=\"col_heading level0 col2\" >operasional</th>    </tr></thead><tbody>\n",
       "                <tr>\n",
       "                                <td id=\"T_fa8ac_row0_col0\" class=\"data row0 col0\" >01/01/00</td>\n",
       "                        <td id=\"T_fa8ac_row0_col1\" class=\"data row0 col1\" >Rp 300000.00</td>\n",
       "                        <td id=\"T_fa8ac_row0_col2\" class=\"data row0 col2\" >Rp 70000.00</td>\n",
       "            </tr>\n",
       "            <tr>\n",
       "                                <td id=\"T_fa8ac_row1_col0\" class=\"data row1 col0\" >02/01/00</td>\n",
       "                        <td id=\"T_fa8ac_row1_col1\" class=\"data row1 col1\" >Rp 1500000.00</td>\n",
       "                        <td id=\"T_fa8ac_row1_col2\" class=\"data row1 col2\" >Rp 80000.00</td>\n",
       "            </tr>\n",
       "            <tr>\n",
       "                                <td id=\"T_fa8ac_row2_col0\" class=\"data row2 col0\" >03/01/00</td>\n",
       "                        <td id=\"T_fa8ac_row2_col1\" class=\"data row2 col1\" >Rp 600000.00</td>\n",
       "                        <td id=\"T_fa8ac_row2_col2\" class=\"data row2 col2\" >Rp 30000.00</td>\n",
       "            </tr>\n",
       "            <tr>\n",
       "                                <td id=\"T_fa8ac_row3_col0\" class=\"data row3 col0\" >04/01/00</td>\n",
       "                        <td id=\"T_fa8ac_row3_col1\" class=\"data row3 col1\" >Rp 400000.00</td>\n",
       "                        <td id=\"T_fa8ac_row3_col2\" class=\"data row3 col2\" >Rp 110000.00</td>\n",
       "            </tr>\n",
       "            <tr>\n",
       "                                <td id=\"T_fa8ac_row4_col0\" class=\"data row4 col0\" >05/01/00</td>\n",
       "                        <td id=\"T_fa8ac_row4_col1\" class=\"data row4 col1\" >Rp 200000.00</td>\n",
       "                        <td id=\"T_fa8ac_row4_col2\" class=\"data row4 col2\" >Rp 190000.00</td>\n",
       "            </tr>\n",
       "    </tbody></table>"
      ],
      "text/plain": [
       "<pandas.io.formats.style.Styler at 0x22e0d68b5b0>"
      ]
     },
     "execution_count": 35,
     "metadata": {},
     "output_type": "execute_result"
    }
   ],
   "source": [
    "laporan.hide_index()"
   ]
  },
  {
   "cell_type": "code",
   "execution_count": 36,
   "id": "6215c603",
   "metadata": {},
   "outputs": [
    {
     "data": {
      "text/html": [
       "<style  type=\"text/css\" >\n",
       "</style><table id=\"T_fa8ac_\" ><caption>Data Omset dan Operasional</caption><thead>    <tr>        <th class=\"col_heading level0 col0\" >tanggal</th>        <th class=\"col_heading level0 col1\" >omset</th>        <th class=\"col_heading level0 col2\" >operasional</th>    </tr></thead><tbody>\n",
       "                <tr>\n",
       "                                <td id=\"T_fa8ac_row0_col0\" class=\"data row0 col0\" >01/01/00</td>\n",
       "                        <td id=\"T_fa8ac_row0_col1\" class=\"data row0 col1\" >Rp 300000.00</td>\n",
       "                        <td id=\"T_fa8ac_row0_col2\" class=\"data row0 col2\" >Rp 70000.00</td>\n",
       "            </tr>\n",
       "            <tr>\n",
       "                                <td id=\"T_fa8ac_row1_col0\" class=\"data row1 col0\" >02/01/00</td>\n",
       "                        <td id=\"T_fa8ac_row1_col1\" class=\"data row1 col1\" >Rp 1500000.00</td>\n",
       "                        <td id=\"T_fa8ac_row1_col2\" class=\"data row1 col2\" >Rp 80000.00</td>\n",
       "            </tr>\n",
       "            <tr>\n",
       "                                <td id=\"T_fa8ac_row2_col0\" class=\"data row2 col0\" >03/01/00</td>\n",
       "                        <td id=\"T_fa8ac_row2_col1\" class=\"data row2 col1\" >Rp 600000.00</td>\n",
       "                        <td id=\"T_fa8ac_row2_col2\" class=\"data row2 col2\" >Rp 30000.00</td>\n",
       "            </tr>\n",
       "            <tr>\n",
       "                                <td id=\"T_fa8ac_row3_col0\" class=\"data row3 col0\" >04/01/00</td>\n",
       "                        <td id=\"T_fa8ac_row3_col1\" class=\"data row3 col1\" >Rp 400000.00</td>\n",
       "                        <td id=\"T_fa8ac_row3_col2\" class=\"data row3 col2\" >Rp 110000.00</td>\n",
       "            </tr>\n",
       "            <tr>\n",
       "                                <td id=\"T_fa8ac_row4_col0\" class=\"data row4 col0\" >05/01/00</td>\n",
       "                        <td id=\"T_fa8ac_row4_col1\" class=\"data row4 col1\" >Rp 200000.00</td>\n",
       "                        <td id=\"T_fa8ac_row4_col2\" class=\"data row4 col2\" >Rp 190000.00</td>\n",
       "            </tr>\n",
       "    </tbody></table>"
      ],
      "text/plain": [
       "<pandas.io.formats.style.Styler at 0x22e0d68b5b0>"
      ]
     },
     "execution_count": 36,
     "metadata": {},
     "output_type": "execute_result"
    }
   ],
   "source": [
    "laporan.set_caption('Data Omset dan Operasional')"
   ]
  },
  {
   "cell_type": "code",
   "execution_count": 38,
   "id": "2328aea9",
   "metadata": {},
   "outputs": [
    {
     "data": {
      "text/html": [
       "<style  type=\"text/css\" >\n",
       "#T_fa8ac_row1_col1{\n",
       "            background-color:  grey;\n",
       "            background-color:  grey;\n",
       "            background-color:  lightgreen;\n",
       "        }#T_fa8ac_row2_col2{\n",
       "            background-color:  lightblue;\n",
       "        }#T_fa8ac_row4_col1{\n",
       "            background-color:  lightblue;\n",
       "            background-color:  lightblue;\n",
       "            background-color:  pink;\n",
       "        }#T_fa8ac_row4_col2{\n",
       "            background-color:  grey;\n",
       "        }</style><table id=\"T_fa8ac_\" ><caption>Data Omset dan Operasional</caption><thead>    <tr>        <th class=\"col_heading level0 col0\" >tanggal</th>        <th class=\"col_heading level0 col1\" >omset</th>        <th class=\"col_heading level0 col2\" >operasional</th>    </tr></thead><tbody>\n",
       "                <tr>\n",
       "                                <td id=\"T_fa8ac_row0_col0\" class=\"data row0 col0\" >01/01/00</td>\n",
       "                        <td id=\"T_fa8ac_row0_col1\" class=\"data row0 col1\" >Rp 300000.00</td>\n",
       "                        <td id=\"T_fa8ac_row0_col2\" class=\"data row0 col2\" >Rp 70000.00</td>\n",
       "            </tr>\n",
       "            <tr>\n",
       "                                <td id=\"T_fa8ac_row1_col0\" class=\"data row1 col0\" >02/01/00</td>\n",
       "                        <td id=\"T_fa8ac_row1_col1\" class=\"data row1 col1\" >Rp 1500000.00</td>\n",
       "                        <td id=\"T_fa8ac_row1_col2\" class=\"data row1 col2\" >Rp 80000.00</td>\n",
       "            </tr>\n",
       "            <tr>\n",
       "                                <td id=\"T_fa8ac_row2_col0\" class=\"data row2 col0\" >03/01/00</td>\n",
       "                        <td id=\"T_fa8ac_row2_col1\" class=\"data row2 col1\" >Rp 600000.00</td>\n",
       "                        <td id=\"T_fa8ac_row2_col2\" class=\"data row2 col2\" >Rp 30000.00</td>\n",
       "            </tr>\n",
       "            <tr>\n",
       "                                <td id=\"T_fa8ac_row3_col0\" class=\"data row3 col0\" >04/01/00</td>\n",
       "                        <td id=\"T_fa8ac_row3_col1\" class=\"data row3 col1\" >Rp 400000.00</td>\n",
       "                        <td id=\"T_fa8ac_row3_col2\" class=\"data row3 col2\" >Rp 110000.00</td>\n",
       "            </tr>\n",
       "            <tr>\n",
       "                                <td id=\"T_fa8ac_row4_col0\" class=\"data row4 col0\" >05/01/00</td>\n",
       "                        <td id=\"T_fa8ac_row4_col1\" class=\"data row4 col1\" >Rp 200000.00</td>\n",
       "                        <td id=\"T_fa8ac_row4_col2\" class=\"data row4 col2\" >Rp 190000.00</td>\n",
       "            </tr>\n",
       "    </tbody></table>"
      ],
      "text/plain": [
       "<pandas.io.formats.style.Styler at 0x22e0d68b5b0>"
      ]
     },
     "execution_count": 38,
     "metadata": {},
     "output_type": "execute_result"
    }
   ],
   "source": [
    "laporan.highlight_min('omset', color='pink')\n",
    "laporan.highlight_max('omset', color='lightgreen')\n",
    "\n",
    "laporan.highlight_min('operasional', color='lightblue')\n",
    "laporan.highlight_max('operasional', color='grey')"
   ]
  },
  {
   "cell_type": "code",
   "execution_count": null,
   "id": "e2d0ca1f",
   "metadata": {},
   "outputs": [],
   "source": []
  }
 ],
 "metadata": {
  "kernelspec": {
   "display_name": "Python 3",
   "language": "python",
   "name": "python3"
  },
  "language_info": {
   "codemirror_mode": {
    "name": "ipython",
    "version": 3
   },
   "file_extension": ".py",
   "mimetype": "text/x-python",
   "name": "python",
   "nbconvert_exporter": "python",
   "pygments_lexer": "ipython3",
   "version": "3.8.8"
  }
 },
 "nbformat": 4,
 "nbformat_minor": 5
}
